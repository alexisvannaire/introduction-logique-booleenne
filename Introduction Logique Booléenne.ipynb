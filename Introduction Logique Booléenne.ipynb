{
 "cells": [
  {
   "cell_type": "code",
   "execution_count": 301,
   "metadata": {},
   "outputs": [],
   "source": [
    "import pandas as pd\n",
    "import numpy as np\n",
    "from numpy.random import seed, randint, rand"
   ]
  },
  {
   "cell_type": "code",
   "execution_count": 302,
   "metadata": {},
   "outputs": [],
   "source": [
    "seed(123)"
   ]
  },
  {
   "cell_type": "markdown",
   "metadata": {},
   "source": [
    "### Propositions"
   ]
  },
  {
   "cell_type": "code",
   "execution_count": 303,
   "metadata": {},
   "outputs": [
    {
     "data": {
      "text/plain": [
       "False"
      ]
     },
     "execution_count": 303,
     "metadata": {},
     "output_type": "execute_result"
    }
   ],
   "source": [
    "1 > 4"
   ]
  },
  {
   "cell_type": "code",
   "execution_count": 304,
   "metadata": {},
   "outputs": [
    {
     "data": {
      "text/plain": [
       "True"
      ]
     },
     "execution_count": 304,
     "metadata": {},
     "output_type": "execute_result"
    }
   ],
   "source": [
    "2 + 2 == 4"
   ]
  },
  {
   "cell_type": "code",
   "execution_count": 305,
   "metadata": {},
   "outputs": [
    {
     "data": {
      "text/plain": [
       "True"
      ]
     },
     "execution_count": 305,
     "metadata": {},
     "output_type": "execute_result"
    }
   ],
   "source": [
    "2 + 2 != 5"
   ]
  },
  {
   "cell_type": "code",
   "execution_count": 306,
   "metadata": {
    "scrolled": false
   },
   "outputs": [
    {
     "data": {
      "text/plain": [
       "True"
      ]
     },
     "execution_count": 306,
     "metadata": {},
     "output_type": "execute_result"
    }
   ],
   "source": [
    "not(1 > 4)"
   ]
  },
  {
   "cell_type": "code",
   "execution_count": 307,
   "metadata": {},
   "outputs": [
    {
     "data": {
      "text/plain": [
       "False"
      ]
     },
     "execution_count": 307,
     "metadata": {},
     "output_type": "execute_result"
    }
   ],
   "source": [
    "1 > 4 and 1 < 4"
   ]
  },
  {
   "cell_type": "code",
   "execution_count": 308,
   "metadata": {},
   "outputs": [
    {
     "data": {
      "text/plain": [
       "True"
      ]
     },
     "execution_count": 308,
     "metadata": {},
     "output_type": "execute_result"
    }
   ],
   "source": [
    "1 > 4 or 1 < 4"
   ]
  },
  {
   "cell_type": "markdown",
   "metadata": {},
   "source": [
    "### Table de vérité"
   ]
  },
  {
   "cell_type": "code",
   "execution_count": 309,
   "metadata": {},
   "outputs": [],
   "source": [
    "a = [False, False, True, True]\n",
    "b = [False, True, False, True]\n",
    "c = [a[i] and b[i] for i in range(len(a))]\n",
    "data = {'a': a, 'b': b, 'a and b': c}\n",
    "table1 = pd.DataFrame(data).style.hide_index()"
   ]
  },
  {
   "cell_type": "code",
   "execution_count": 310,
   "metadata": {},
   "outputs": [
    {
     "data": {
      "text/html": [
       "<style  type=\"text/css\" >\n",
       "</style><table id=\"T_c3f03bc8_8242_11ea_aee8_f8a2d6ae4a22\" ><thead>    <tr>        <th class=\"col_heading level0 col0\" >a</th>        <th class=\"col_heading level0 col1\" >b</th>        <th class=\"col_heading level0 col2\" >a and b</th>    </tr></thead><tbody>\n",
       "                <tr>\n",
       "                                <td id=\"T_c3f03bc8_8242_11ea_aee8_f8a2d6ae4a22row0_col0\" class=\"data row0 col0\" >False</td>\n",
       "                        <td id=\"T_c3f03bc8_8242_11ea_aee8_f8a2d6ae4a22row0_col1\" class=\"data row0 col1\" >False</td>\n",
       "                        <td id=\"T_c3f03bc8_8242_11ea_aee8_f8a2d6ae4a22row0_col2\" class=\"data row0 col2\" >False</td>\n",
       "            </tr>\n",
       "            <tr>\n",
       "                                <td id=\"T_c3f03bc8_8242_11ea_aee8_f8a2d6ae4a22row1_col0\" class=\"data row1 col0\" >False</td>\n",
       "                        <td id=\"T_c3f03bc8_8242_11ea_aee8_f8a2d6ae4a22row1_col1\" class=\"data row1 col1\" >True</td>\n",
       "                        <td id=\"T_c3f03bc8_8242_11ea_aee8_f8a2d6ae4a22row1_col2\" class=\"data row1 col2\" >False</td>\n",
       "            </tr>\n",
       "            <tr>\n",
       "                                <td id=\"T_c3f03bc8_8242_11ea_aee8_f8a2d6ae4a22row2_col0\" class=\"data row2 col0\" >True</td>\n",
       "                        <td id=\"T_c3f03bc8_8242_11ea_aee8_f8a2d6ae4a22row2_col1\" class=\"data row2 col1\" >False</td>\n",
       "                        <td id=\"T_c3f03bc8_8242_11ea_aee8_f8a2d6ae4a22row2_col2\" class=\"data row2 col2\" >False</td>\n",
       "            </tr>\n",
       "            <tr>\n",
       "                                <td id=\"T_c3f03bc8_8242_11ea_aee8_f8a2d6ae4a22row3_col0\" class=\"data row3 col0\" >True</td>\n",
       "                        <td id=\"T_c3f03bc8_8242_11ea_aee8_f8a2d6ae4a22row3_col1\" class=\"data row3 col1\" >True</td>\n",
       "                        <td id=\"T_c3f03bc8_8242_11ea_aee8_f8a2d6ae4a22row3_col2\" class=\"data row3 col2\" >True</td>\n",
       "            </tr>\n",
       "    </tbody></table>"
      ],
      "text/plain": [
       "<pandas.io.formats.style.Styler at 0x2b6d403c828>"
      ]
     },
     "execution_count": 310,
     "metadata": {},
     "output_type": "execute_result"
    }
   ],
   "source": [
    "table1"
   ]
  },
  {
   "cell_type": "code",
   "execution_count": 311,
   "metadata": {},
   "outputs": [],
   "source": [
    "d = [a[i] or b[i] for i in range(len(a))]\n",
    "data2 = {'a': a, 'b': b, 'a or b': d}\n",
    "table2 = pd.DataFrame(data2).style.hide_index()"
   ]
  },
  {
   "cell_type": "code",
   "execution_count": 312,
   "metadata": {},
   "outputs": [
    {
     "data": {
      "text/html": [
       "<style  type=\"text/css\" >\n",
       "</style><table id=\"T_c3f4cc80_8242_11ea_9a65_f8a2d6ae4a22\" ><thead>    <tr>        <th class=\"col_heading level0 col0\" >a</th>        <th class=\"col_heading level0 col1\" >b</th>        <th class=\"col_heading level0 col2\" >a or b</th>    </tr></thead><tbody>\n",
       "                <tr>\n",
       "                                <td id=\"T_c3f4cc80_8242_11ea_9a65_f8a2d6ae4a22row0_col0\" class=\"data row0 col0\" >False</td>\n",
       "                        <td id=\"T_c3f4cc80_8242_11ea_9a65_f8a2d6ae4a22row0_col1\" class=\"data row0 col1\" >False</td>\n",
       "                        <td id=\"T_c3f4cc80_8242_11ea_9a65_f8a2d6ae4a22row0_col2\" class=\"data row0 col2\" >False</td>\n",
       "            </tr>\n",
       "            <tr>\n",
       "                                <td id=\"T_c3f4cc80_8242_11ea_9a65_f8a2d6ae4a22row1_col0\" class=\"data row1 col0\" >False</td>\n",
       "                        <td id=\"T_c3f4cc80_8242_11ea_9a65_f8a2d6ae4a22row1_col1\" class=\"data row1 col1\" >True</td>\n",
       "                        <td id=\"T_c3f4cc80_8242_11ea_9a65_f8a2d6ae4a22row1_col2\" class=\"data row1 col2\" >True</td>\n",
       "            </tr>\n",
       "            <tr>\n",
       "                                <td id=\"T_c3f4cc80_8242_11ea_9a65_f8a2d6ae4a22row2_col0\" class=\"data row2 col0\" >True</td>\n",
       "                        <td id=\"T_c3f4cc80_8242_11ea_9a65_f8a2d6ae4a22row2_col1\" class=\"data row2 col1\" >False</td>\n",
       "                        <td id=\"T_c3f4cc80_8242_11ea_9a65_f8a2d6ae4a22row2_col2\" class=\"data row2 col2\" >True</td>\n",
       "            </tr>\n",
       "            <tr>\n",
       "                                <td id=\"T_c3f4cc80_8242_11ea_9a65_f8a2d6ae4a22row3_col0\" class=\"data row3 col0\" >True</td>\n",
       "                        <td id=\"T_c3f4cc80_8242_11ea_9a65_f8a2d6ae4a22row3_col1\" class=\"data row3 col1\" >True</td>\n",
       "                        <td id=\"T_c3f4cc80_8242_11ea_9a65_f8a2d6ae4a22row3_col2\" class=\"data row3 col2\" >True</td>\n",
       "            </tr>\n",
       "    </tbody></table>"
      ],
      "text/plain": [
       "<pandas.io.formats.style.Styler at 0x2b6d36cd588>"
      ]
     },
     "execution_count": 312,
     "metadata": {},
     "output_type": "execute_result"
    }
   ],
   "source": [
    "table2"
   ]
  },
  {
   "cell_type": "code",
   "execution_count": 313,
   "metadata": {},
   "outputs": [],
   "source": [
    "a2 = [False, True]\n",
    "nota = [ not a2[i] for i in range(len(a2))]\n",
    "data3 = {'a': a2,'not a': nota}\n",
    "table3 = pd.DataFrame(data3).style.hide_index()"
   ]
  },
  {
   "cell_type": "code",
   "execution_count": 314,
   "metadata": {},
   "outputs": [
    {
     "data": {
      "text/html": [
       "<style  type=\"text/css\" >\n",
       "</style><table id=\"T_c3f9437e_8242_11ea_9a77_f8a2d6ae4a22\" ><thead>    <tr>        <th class=\"col_heading level0 col0\" >a</th>        <th class=\"col_heading level0 col1\" >not a</th>    </tr></thead><tbody>\n",
       "                <tr>\n",
       "                                <td id=\"T_c3f9437e_8242_11ea_9a77_f8a2d6ae4a22row0_col0\" class=\"data row0 col0\" >False</td>\n",
       "                        <td id=\"T_c3f9437e_8242_11ea_9a77_f8a2d6ae4a22row0_col1\" class=\"data row0 col1\" >True</td>\n",
       "            </tr>\n",
       "            <tr>\n",
       "                                <td id=\"T_c3f9437e_8242_11ea_9a77_f8a2d6ae4a22row1_col0\" class=\"data row1 col0\" >True</td>\n",
       "                        <td id=\"T_c3f9437e_8242_11ea_9a77_f8a2d6ae4a22row1_col1\" class=\"data row1 col1\" >False</td>\n",
       "            </tr>\n",
       "    </tbody></table>"
      ],
      "text/plain": [
       "<pandas.io.formats.style.Styler at 0x2b6d3f26c50>"
      ]
     },
     "execution_count": 314,
     "metadata": {},
     "output_type": "execute_result"
    }
   ],
   "source": [
    "table3"
   ]
  },
  {
   "cell_type": "markdown",
   "metadata": {},
   "source": [
    "### IF / WHILE / FOR :"
   ]
  },
  {
   "cell_type": "markdown",
   "metadata": {},
   "source": [
    "Quand on teste une condition, on vérifie si elle est vraie.\n",
    "\n",
    "Soit p une proposition :\n",
    "\n",
    "`if p :\n",
    "    ...\n",
    "while p :\n",
    "    ...`\n",
    "    \n",
    "Soit L un ensemble :\n",
    "\n",
    "`for element in L :\n",
    "    ...\n",
    "`"
   ]
  },
  {
   "cell_type": "code",
   "execution_count": 315,
   "metadata": {},
   "outputs": [
    {
     "name": "stdout",
     "output_type": "stream",
     "text": [
      "1 n'est pas supérieur à 4\n"
     ]
    }
   ],
   "source": [
    "if 1 > 4 :\n",
    "    print(\"1 > 4 ???\")\n",
    "else:\n",
    "    print(\"1 n'est pas supérieur à 4\")"
   ]
  },
  {
   "cell_type": "code",
   "execution_count": 316,
   "metadata": {},
   "outputs": [
    {
     "name": "stdout",
     "output_type": "stream",
     "text": [
      "0.6964691855978616 > 0.5\n"
     ]
    }
   ],
   "source": [
    "u = rand()\n",
    "if 0.5 < u:\n",
    "    print(u, \"> 0.5\")\n",
    "else:\n",
    "    print(u, \"<= 0.5\")"
   ]
  },
  {
   "cell_type": "code",
   "execution_count": 317,
   "metadata": {},
   "outputs": [
    {
     "name": "stdout",
     "output_type": "stream",
     "text": [
      "0.9 > u > 0.1\n"
     ]
    }
   ],
   "source": [
    "u = rand()\n",
    "if u > 0.99:\n",
    "    print(\"u > 0.99\")\n",
    "elif u > 0.95:\n",
    "    print(\"0.99 >= u > 0.95\")\n",
    "elif u > 0.9:\n",
    "    print(\"0.95 >= u > 0.9\")\n",
    "elif u > 0.1:\n",
    "    print(\"0.9 >= u > 0.1\")\n",
    "else :\n",
    "    print(\"u <= 0.1\")"
   ]
  },
  {
   "cell_type": "code",
   "execution_count": 318,
   "metadata": {},
   "outputs": [
    {
     "name": "stdout",
     "output_type": "stream",
     "text": [
      "0  : 13\n",
      "1  : 12.448685230917109\n",
      "2  : 11.729216261131546\n",
      "3  : 11.306109801007086\n",
      "4  : 10.32534560262247\n",
      "5  : 9.640515864037607\n"
     ]
    }
   ],
   "source": [
    "i = 0\n",
    "v = randint(11,21)\n",
    "print(i, \" :\", v)\n",
    "while v > 10:\n",
    "    i += 1\n",
    "    v = v - rand()\n",
    "    print(i, \" :\", v)"
   ]
  },
  {
   "cell_type": "code",
   "execution_count": 319,
   "metadata": {},
   "outputs": [
    {
     "name": "stdout",
     "output_type": "stream",
     "text": [
      "35.51043581330719\n",
      "13.86337273505205\n"
     ]
    }
   ],
   "source": [
    "L = [rand() for k in range(100)]\n",
    "sdemi = 0\n",
    "idemi = 0\n",
    "for r in L :\n",
    "    if r > 0.5:\n",
    "        sdemi += r\n",
    "    else :\n",
    "        idemi += r\n",
    "print(sdemi) \n",
    "print(idemi)"
   ]
  },
  {
   "cell_type": "markdown",
   "metadata": {},
   "source": [
    "### Relations plus complexes :"
   ]
  },
  {
   "cell_type": "markdown",
   "metadata": {},
   "source": [
    "#### 1. OU exclusif"
   ]
  },
  {
   "cell_type": "markdown",
   "metadata": {},
   "source": [
    "La relation a xor b s'écrit `a et non(b) ou non(a) and b`"
   ]
  },
  {
   "cell_type": "code",
   "execution_count": 321,
   "metadata": {},
   "outputs": [],
   "source": [
    "e = [a[i] and not b[i] or not a[i] and b[i] for i in range(len(a))]\n",
    "data4 = {'a': a, 'b': b, 'a xor b': e}\n",
    "table4 = pd.DataFrame(data4).style.hide_index()"
   ]
  },
  {
   "cell_type": "code",
   "execution_count": 322,
   "metadata": {
    "scrolled": true
   },
   "outputs": [
    {
     "data": {
      "text/html": [
       "<style  type=\"text/css\" >\n",
       "</style><table id=\"T_c40bc478_8242_11ea_ba9f_f8a2d6ae4a22\" ><thead>    <tr>        <th class=\"col_heading level0 col0\" >a</th>        <th class=\"col_heading level0 col1\" >b</th>        <th class=\"col_heading level0 col2\" >a xor b</th>    </tr></thead><tbody>\n",
       "                <tr>\n",
       "                                <td id=\"T_c40bc478_8242_11ea_ba9f_f8a2d6ae4a22row0_col0\" class=\"data row0 col0\" >False</td>\n",
       "                        <td id=\"T_c40bc478_8242_11ea_ba9f_f8a2d6ae4a22row0_col1\" class=\"data row0 col1\" >False</td>\n",
       "                        <td id=\"T_c40bc478_8242_11ea_ba9f_f8a2d6ae4a22row0_col2\" class=\"data row0 col2\" >False</td>\n",
       "            </tr>\n",
       "            <tr>\n",
       "                                <td id=\"T_c40bc478_8242_11ea_ba9f_f8a2d6ae4a22row1_col0\" class=\"data row1 col0\" >False</td>\n",
       "                        <td id=\"T_c40bc478_8242_11ea_ba9f_f8a2d6ae4a22row1_col1\" class=\"data row1 col1\" >True</td>\n",
       "                        <td id=\"T_c40bc478_8242_11ea_ba9f_f8a2d6ae4a22row1_col2\" class=\"data row1 col2\" >True</td>\n",
       "            </tr>\n",
       "            <tr>\n",
       "                                <td id=\"T_c40bc478_8242_11ea_ba9f_f8a2d6ae4a22row2_col0\" class=\"data row2 col0\" >True</td>\n",
       "                        <td id=\"T_c40bc478_8242_11ea_ba9f_f8a2d6ae4a22row2_col1\" class=\"data row2 col1\" >False</td>\n",
       "                        <td id=\"T_c40bc478_8242_11ea_ba9f_f8a2d6ae4a22row2_col2\" class=\"data row2 col2\" >True</td>\n",
       "            </tr>\n",
       "            <tr>\n",
       "                                <td id=\"T_c40bc478_8242_11ea_ba9f_f8a2d6ae4a22row3_col0\" class=\"data row3 col0\" >True</td>\n",
       "                        <td id=\"T_c40bc478_8242_11ea_ba9f_f8a2d6ae4a22row3_col1\" class=\"data row3 col1\" >True</td>\n",
       "                        <td id=\"T_c40bc478_8242_11ea_ba9f_f8a2d6ae4a22row3_col2\" class=\"data row3 col2\" >False</td>\n",
       "            </tr>\n",
       "    </tbody></table>"
      ],
      "text/plain": [
       "<pandas.io.formats.style.Styler at 0x2b6d4050668>"
      ]
     },
     "execution_count": 322,
     "metadata": {},
     "output_type": "execute_result"
    }
   ],
   "source": [
    "table4"
   ]
  },
  {
   "cell_type": "markdown",
   "metadata": {},
   "source": [
    "Soit la proposition suivante : `a >= 1 XOR a < 1`, elle est vraie quelque soit a."
   ]
  },
  {
   "cell_type": "code",
   "execution_count": 323,
   "metadata": {},
   "outputs": [
    {
     "name": "stdout",
     "output_type": "stream",
     "text": [
      "FF : 0 \n",
      "FV : 523 \n",
      "VF : 477 \n",
      "VV : 0\n"
     ]
    }
   ],
   "source": [
    "a = 2*rand(1000)\n",
    "vv, vf, fv, ff = 0, 0, 0, 0\n",
    "for i in range(1000):\n",
    "    if a[i] >= 1:\n",
    "        if a[i] < 1:\n",
    "            vv += 1\n",
    "        else:\n",
    "            vf += 1\n",
    "    else:\n",
    "        if a[i] < 1:\n",
    "            fv += 1\n",
    "        else:\n",
    "            ff += 1\n",
    "print(\"FF :\", ff, \"\\nFV :\",fv, \"\\nVF :\", vf, \"\\nVV :\", vv )"
   ]
  },
  {
   "cell_type": "markdown",
   "metadata": {},
   "source": [
    "Finalement, XOR teste le fait que a et b soient différents. Cela peut se faire avec le test \"!=\"."
   ]
  },
  {
   "cell_type": "markdown",
   "metadata": {},
   "source": [
    "#### 2. Implication "
   ]
  },
  {
   "cell_type": "markdown",
   "metadata": {},
   "source": [
    "Une implication a => b en logique booléenne s'écrie de cette manière : `not a or b`"
   ]
  },
  {
   "cell_type": "code",
   "execution_count": 324,
   "metadata": {},
   "outputs": [],
   "source": [
    "a = [False, False, True, True]\n",
    "b = [False, True, False, True]\n",
    "f = [not a[i] or b[i] for i in range(len(a))]\n",
    "data5 = {'a': a, 'b': b, 'a => b': f}\n",
    "table5 = pd.DataFrame(data5).style.hide_index()"
   ]
  },
  {
   "cell_type": "code",
   "execution_count": 325,
   "metadata": {},
   "outputs": [
    {
     "data": {
      "text/html": [
       "<style  type=\"text/css\" >\n",
       "</style><table id=\"T_c4142c8a_8242_11ea_8bb5_f8a2d6ae4a22\" ><thead>    <tr>        <th class=\"col_heading level0 col0\" >a</th>        <th class=\"col_heading level0 col1\" >b</th>        <th class=\"col_heading level0 col2\" >a => b</th>    </tr></thead><tbody>\n",
       "                <tr>\n",
       "                                <td id=\"T_c4142c8a_8242_11ea_8bb5_f8a2d6ae4a22row0_col0\" class=\"data row0 col0\" >False</td>\n",
       "                        <td id=\"T_c4142c8a_8242_11ea_8bb5_f8a2d6ae4a22row0_col1\" class=\"data row0 col1\" >False</td>\n",
       "                        <td id=\"T_c4142c8a_8242_11ea_8bb5_f8a2d6ae4a22row0_col2\" class=\"data row0 col2\" >True</td>\n",
       "            </tr>\n",
       "            <tr>\n",
       "                                <td id=\"T_c4142c8a_8242_11ea_8bb5_f8a2d6ae4a22row1_col0\" class=\"data row1 col0\" >False</td>\n",
       "                        <td id=\"T_c4142c8a_8242_11ea_8bb5_f8a2d6ae4a22row1_col1\" class=\"data row1 col1\" >True</td>\n",
       "                        <td id=\"T_c4142c8a_8242_11ea_8bb5_f8a2d6ae4a22row1_col2\" class=\"data row1 col2\" >True</td>\n",
       "            </tr>\n",
       "            <tr>\n",
       "                                <td id=\"T_c4142c8a_8242_11ea_8bb5_f8a2d6ae4a22row2_col0\" class=\"data row2 col0\" >True</td>\n",
       "                        <td id=\"T_c4142c8a_8242_11ea_8bb5_f8a2d6ae4a22row2_col1\" class=\"data row2 col1\" >False</td>\n",
       "                        <td id=\"T_c4142c8a_8242_11ea_8bb5_f8a2d6ae4a22row2_col2\" class=\"data row2 col2\" >False</td>\n",
       "            </tr>\n",
       "            <tr>\n",
       "                                <td id=\"T_c4142c8a_8242_11ea_8bb5_f8a2d6ae4a22row3_col0\" class=\"data row3 col0\" >True</td>\n",
       "                        <td id=\"T_c4142c8a_8242_11ea_8bb5_f8a2d6ae4a22row3_col1\" class=\"data row3 col1\" >True</td>\n",
       "                        <td id=\"T_c4142c8a_8242_11ea_8bb5_f8a2d6ae4a22row3_col2\" class=\"data row3 col2\" >True</td>\n",
       "            </tr>\n",
       "    </tbody></table>"
      ],
      "text/plain": [
       "<pandas.io.formats.style.Styler at 0x2b6d4050358>"
      ]
     },
     "execution_count": 325,
     "metadata": {},
     "output_type": "execute_result"
    }
   ],
   "source": [
    "table5"
   ]
  },
  {
   "cell_type": "markdown",
   "metadata": {},
   "source": [
    "Soit la proposition suivante : `(a > b et b > c) => a > c` qu'on notera : ( A => B )"
   ]
  },
  {
   "cell_type": "code",
   "execution_count": 326,
   "metadata": {},
   "outputs": [
    {
     "name": "stdout",
     "output_type": "stream",
     "text": [
      "FF : 485 \n",
      "FV : 347 \n",
      "VF : 0 \n",
      "VV : 168\n"
     ]
    }
   ],
   "source": [
    "a, b, c = rand(1000), rand(1000), rand(1000)\n",
    "vv, vf, fv, ff = 0, 0, 0, 0\n",
    "for i in range(1000):\n",
    "    if a[i] > b[i] and b[i] > c[i]:\n",
    "        if a[i] > c[i]:\n",
    "            vv += 1\n",
    "        else:\n",
    "            vf += 1\n",
    "    else:\n",
    "        if a[i] > c[i]:\n",
    "            fv += 1\n",
    "        else:\n",
    "            ff += 1\n",
    "print(\"FF :\", ff, \"\\nFV :\",fv, \"\\nVF :\", vf, \"\\nVV :\", vv )"
   ]
  },
  {
   "cell_type": "markdown",
   "metadata": {},
   "source": [
    "Nous n'avons fais qu'une simulation pour vérifier empiriquement la véracité de cette implication (qui se démontre mathématiquement, qui est donc vraie)"
   ]
  },
  {
   "cell_type": "markdown",
   "metadata": {},
   "source": [
    "#### 3. Equivalence"
   ]
  },
  {
   "cell_type": "markdown",
   "metadata": {},
   "source": [
    "Une équivalence, en logique mathématique : a <=> b est défini comme : a => b  et b => a.\n",
    "\n",
    "On a vu que a => b def non(a) ou b, alors on pourrait donc écrire a <=> b comme (non(a) ou b) et (non(b) ou a).\n",
    "\n",
    "Et en fait, on remarque que cette écriture est en fait la négation du OU exclusif vu précédement : \n",
    "\n",
    "    a XOR b : a and not(b) or not(a) and b\n",
    "\n",
    "    not(a XOR b) : not(a and not(b) or not(a) and b)\n",
    "\n",
    "                 = (not(a) or b) and (a or not(b))"
   ]
  },
  {
   "cell_type": "code",
   "execution_count": 327,
   "metadata": {},
   "outputs": [],
   "source": [
    "a = [False, False, True, True]\n",
    "b = [False, True, False, True]\n",
    "g = [(not(a[i]) or b[i]) and (a[i] or not(b[i])) for i in range(len(a))]\n",
    "data6 = {'a': a, 'b': b, 'a <=> b': g}\n",
    "table6 = pd.DataFrame(data6).style.hide_index()"
   ]
  },
  {
   "cell_type": "code",
   "execution_count": 328,
   "metadata": {},
   "outputs": [
    {
     "data": {
      "text/html": [
       "<style  type=\"text/css\" >\n",
       "</style><table id=\"T_c41cb2d2_8242_11ea_a161_f8a2d6ae4a22\" ><thead>    <tr>        <th class=\"col_heading level0 col0\" >a</th>        <th class=\"col_heading level0 col1\" >b</th>        <th class=\"col_heading level0 col2\" >a <=> b</th>    </tr></thead><tbody>\n",
       "                <tr>\n",
       "                                <td id=\"T_c41cb2d2_8242_11ea_a161_f8a2d6ae4a22row0_col0\" class=\"data row0 col0\" >False</td>\n",
       "                        <td id=\"T_c41cb2d2_8242_11ea_a161_f8a2d6ae4a22row0_col1\" class=\"data row0 col1\" >False</td>\n",
       "                        <td id=\"T_c41cb2d2_8242_11ea_a161_f8a2d6ae4a22row0_col2\" class=\"data row0 col2\" >True</td>\n",
       "            </tr>\n",
       "            <tr>\n",
       "                                <td id=\"T_c41cb2d2_8242_11ea_a161_f8a2d6ae4a22row1_col0\" class=\"data row1 col0\" >False</td>\n",
       "                        <td id=\"T_c41cb2d2_8242_11ea_a161_f8a2d6ae4a22row1_col1\" class=\"data row1 col1\" >True</td>\n",
       "                        <td id=\"T_c41cb2d2_8242_11ea_a161_f8a2d6ae4a22row1_col2\" class=\"data row1 col2\" >False</td>\n",
       "            </tr>\n",
       "            <tr>\n",
       "                                <td id=\"T_c41cb2d2_8242_11ea_a161_f8a2d6ae4a22row2_col0\" class=\"data row2 col0\" >True</td>\n",
       "                        <td id=\"T_c41cb2d2_8242_11ea_a161_f8a2d6ae4a22row2_col1\" class=\"data row2 col1\" >False</td>\n",
       "                        <td id=\"T_c41cb2d2_8242_11ea_a161_f8a2d6ae4a22row2_col2\" class=\"data row2 col2\" >False</td>\n",
       "            </tr>\n",
       "            <tr>\n",
       "                                <td id=\"T_c41cb2d2_8242_11ea_a161_f8a2d6ae4a22row3_col0\" class=\"data row3 col0\" >True</td>\n",
       "                        <td id=\"T_c41cb2d2_8242_11ea_a161_f8a2d6ae4a22row3_col1\" class=\"data row3 col1\" >True</td>\n",
       "                        <td id=\"T_c41cb2d2_8242_11ea_a161_f8a2d6ae4a22row3_col2\" class=\"data row3 col2\" >True</td>\n",
       "            </tr>\n",
       "    </tbody></table>"
      ],
      "text/plain": [
       "<pandas.io.formats.style.Styler at 0x2b6d4050518>"
      ]
     },
     "execution_count": 328,
     "metadata": {},
     "output_type": "execute_result"
    }
   ],
   "source": [
    "table6"
   ]
  },
  {
   "cell_type": "markdown",
   "metadata": {},
   "source": [
    "Finalement, l'équivalence teste le fait que a et b soient les mêmes. Cela peut se faire avec le test \"==\"."
   ]
  },
  {
   "cell_type": "markdown",
   "metadata": {},
   "source": [
    "Soit la proposition : a est pair <=> le chiffre des unités de a est pair."
   ]
  },
  {
   "cell_type": "code",
   "execution_count": 329,
   "metadata": {},
   "outputs": [
    {
     "name": "stdout",
     "output_type": "stream",
     "text": [
      "408 408 3 8\n"
     ]
    }
   ],
   "source": [
    "# Pour vérifier qu'un nombre est pair on utilise le modulo \"%\" comme ceci : a%2 == 0 (impair serait a%2 == 1)\n",
    "A = randint(1,1000)\n",
    "Achaine = str(A) # on récupère le nombre en chaine de caractère\n",
    "n = len(Achaine) # on récupère le nombre de chiffres\n",
    "uA = int(Achaine[n-1]) # on récupère le chiffre des unités\n",
    "print(A, Achaine, n, uA)"
   ]
  },
  {
   "cell_type": "code",
   "execution_count": 330,
   "metadata": {},
   "outputs": [
    {
     "name": "stdout",
     "output_type": "stream",
     "text": [
      "FF : 493 \n",
      "FV : 0 \n",
      "VF : 0 \n",
      "VV : 507\n"
     ]
    }
   ],
   "source": [
    "# Faisons le pour 1000 nb aléatoires\n",
    "A = randint(1,1000, 1000)\n",
    "Achaine = [str(A[i]) for i in range(len(A))]\n",
    "n = [len(Achaine[i]) for i in range(len(Achaine))]\n",
    "uA = [int(Achaine[i][n[i]-1]) for i in range(len(n))]\n",
    "\n",
    "# et regardons ce qu'il se passe \n",
    "vv, vf, fv, ff = 0, 0, 0, 0\n",
    "for i in range(1000):\n",
    "    if A[i]%2 == 0: # Est-ce que a est pair\n",
    "        if uA[i]%2 == 0: # Est-ce que son chiffre des unités est pair ?\n",
    "            vv += 1\n",
    "        else:\n",
    "            vf += 1\n",
    "    else:\n",
    "        if uA[i]%2 == 0:\n",
    "            fv += 1\n",
    "        else:\n",
    "            ff += 1\n",
    "print(\"FF :\", ff, \"\\nFV :\",fv, \"\\nVF :\", vf, \"\\nVV :\", vv )"
   ]
  },
  {
   "cell_type": "code",
   "execution_count": null,
   "metadata": {},
   "outputs": [],
   "source": []
  }
 ],
 "metadata": {
  "kernelspec": {
   "display_name": "Python 3",
   "language": "python",
   "name": "python3"
  },
  "language_info": {
   "codemirror_mode": {
    "name": "ipython",
    "version": 3
   },
   "file_extension": ".py",
   "mimetype": "text/x-python",
   "name": "python",
   "nbconvert_exporter": "python",
   "pygments_lexer": "ipython3",
   "version": "3.7.3"
  }
 },
 "nbformat": 4,
 "nbformat_minor": 2
}
